{
 "cells": [
  {
   "cell_type": "code",
   "execution_count": 1,
   "metadata": {},
   "outputs": [],
   "source": [
    "import numpy as np\n",
    "import pandas as pd\n",
    "from NeuralNetwork import loss, activation, layer, network\n",
    "import plotly.graph_objects as go\n",
    "import plotly.express as px"
   ]
  },
  {
   "cell_type": "code",
   "execution_count": 35,
   "metadata": {},
   "outputs": [
    {
     "data": {
      "text/plain": [
       "array([[-0.52881931, -0.88407359, -2.24538334, ...,  0.01075017,\n",
       "        -0.41616578,  0.24796037],\n",
       "       [ 0.10284859,  0.8822701 ,  0.49693139, ..., -1.13261322,\n",
       "        -0.42265771, -0.2092144 ],\n",
       "       [ 0.68929161, -0.26386644,  0.2762624 , ...,  1.61023318,\n",
       "         0.93216965, -0.50822526],\n",
       "       ...,\n",
       "       [ 2.05688512,  1.67288699,  2.57711436, ..., -0.8362772 ,\n",
       "        -0.048402  , -0.27227775],\n",
       "       [-2.74126616, -1.00324408,  1.47363857, ..., -2.43546356,\n",
       "        -0.46459531, -1.93199903],\n",
       "       [ 0.55301346, -0.30117293,  1.14437919, ...,  0.71313471,\n",
       "        -0.57057905, -0.82621537]])"
      ]
     },
     "execution_count": 35,
     "metadata": {},
     "output_type": "execute_result"
    }
   ],
   "source": [
    "weights = np.random.randn(250, 10000)\n",
    "weights"
   ]
  },
  {
   "cell_type": "code",
   "execution_count": 36,
   "metadata": {
    "scrolled": true
   },
   "outputs": [
    {
     "data": {
      "text/plain": [
       "array([-2.02698442e-02,  5.58977307e-03, -1.16807082e-02, -5.68409302e-03,\n",
       "       -8.06089738e-03, -5.27522914e-04, -9.16661471e-04,  1.43006209e-02,\n",
       "        2.21746532e-03,  5.14911598e-03,  5.77685559e-03, -6.45200326e-03,\n",
       "        1.73449838e-02, -6.69665405e-03, -1.44629736e-03,  1.16405148e-02,\n",
       "       -1.25453539e-02,  8.19239747e-03,  1.45663410e-03, -5.34329732e-03,\n",
       "        1.56444753e-02, -9.05196920e-03, -5.52710085e-03, -6.62572727e-03,\n",
       "       -4.55223281e-03,  1.02662025e-02,  5.81799006e-04, -1.00583015e-02,\n",
       "       -5.69060726e-03, -7.46750366e-03, -7.50949408e-03,  1.95401070e-03,\n",
       "        7.95359159e-03, -1.07979812e-02, -8.03595660e-03,  3.64682456e-03,\n",
       "       -1.51850398e-02,  1.58102497e-03, -3.94284287e-03,  1.26713455e-02,\n",
       "       -1.58947374e-02, -1.60409099e-02,  5.86715382e-03, -1.47700096e-02,\n",
       "       -1.27369261e-02, -1.32296232e-02, -1.49516623e-02, -5.32288342e-03,\n",
       "        9.98726843e-03, -7.40498507e-03, -9.68729008e-03,  9.14492129e-03,\n",
       "       -2.14435658e-02, -6.43159855e-06, -1.38698443e-03,  1.41818478e-02,\n",
       "       -1.67172516e-02,  9.73345154e-03, -2.51692094e-03,  5.03548430e-03,\n",
       "       -1.43272482e-03,  5.29533356e-03,  1.01847145e-02,  1.36376480e-02,\n",
       "        9.44026325e-03, -7.09273422e-03, -6.51263763e-03, -5.28515485e-03,\n",
       "       -6.46461100e-03,  9.09546924e-03,  5.57167713e-03,  1.83842550e-03,\n",
       "        3.58064070e-03,  1.28751579e-02, -7.25408190e-04, -1.99466232e-03,\n",
       "       -2.20749816e-02, -5.34182555e-03,  1.29006489e-02, -2.75408698e-02,\n",
       "       -6.11078924e-03,  2.40267837e-02, -1.90162122e-02,  1.72147716e-02,\n",
       "       -1.42241560e-03, -9.15212978e-03,  4.10231499e-03, -3.02005424e-03,\n",
       "        5.90924682e-03,  2.37452462e-03, -4.23566528e-03, -5.06579204e-03,\n",
       "        6.74547092e-03,  1.55351037e-03,  1.50695100e-03, -6.45443589e-03,\n",
       "       -1.00437846e-02,  9.68637859e-03, -1.84648966e-03,  4.59846906e-03,\n",
       "       -3.00255339e-03,  5.84036814e-03, -5.14879277e-03,  2.45263798e-03,\n",
       "       -8.98433042e-03,  5.87923963e-03, -1.10717738e-03, -9.76614602e-03,\n",
       "       -7.39280883e-03, -5.42426731e-03,  5.73422197e-04, -9.71153141e-03,\n",
       "       -1.50595583e-02,  1.82176661e-04, -9.00533924e-03,  2.76050284e-03,\n",
       "        1.73915204e-02,  1.67058333e-02,  1.40606647e-03, -9.47891120e-03,\n",
       "        4.62065556e-03, -1.70202461e-03,  3.48638619e-03, -1.40114291e-02,\n",
       "       -1.34159365e-02, -6.85633434e-03,  2.94062788e-03,  1.23752813e-02,\n",
       "       -8.20393357e-03, -1.10970903e-02, -7.20056758e-03,  5.37774565e-03,\n",
       "        9.16204803e-03, -2.13324434e-02,  9.06450941e-04, -4.64400386e-03,\n",
       "       -2.31713834e-03,  3.38990703e-03,  6.27973708e-04,  4.31171602e-03,\n",
       "       -8.12896918e-03,  5.55270344e-03,  8.62502264e-04, -5.78171381e-03,\n",
       "        4.99069874e-03,  4.20321799e-03,  9.84073249e-03, -2.12502808e-02,\n",
       "        1.25056144e-03, -1.61842043e-02, -5.41513592e-03,  6.07648303e-03,\n",
       "       -5.60976081e-04,  7.54448249e-03, -8.11881922e-03, -5.35967125e-03,\n",
       "        5.58686175e-03, -6.65545129e-03,  5.85150073e-03, -1.70319533e-02,\n",
       "       -3.76340031e-03,  1.52328884e-02, -2.16619241e-02, -1.86438911e-03,\n",
       "        1.47644351e-03,  7.93571036e-03,  3.88555266e-03,  2.83195690e-03,\n",
       "        7.50506542e-03, -1.25806179e-02,  2.51901882e-03,  1.42551452e-03,\n",
       "       -5.60809446e-03,  2.56815754e-03, -3.12863959e-03, -1.04785621e-03,\n",
       "       -2.99394192e-03, -1.77719045e-03, -7.12064055e-03, -3.15569850e-03,\n",
       "        1.70328544e-02, -1.47159314e-02,  6.19883514e-03, -1.52439050e-03,\n",
       "       -1.45976348e-02,  5.00138165e-03,  1.26506095e-02,  8.86431261e-04,\n",
       "        1.57891655e-03,  2.14015370e-03, -1.46627110e-03, -1.49161700e-02,\n",
       "       -1.77914576e-02, -6.69150583e-03,  1.84186479e-03, -7.86508965e-03,\n",
       "        5.86203366e-03,  1.77509541e-02,  4.11876910e-03, -4.15828126e-03,\n",
       "        1.21728797e-02,  1.67207174e-02,  1.14621837e-02, -5.96564100e-03,\n",
       "        1.22397456e-02, -5.58012479e-04,  1.43428524e-03, -1.28690690e-02,\n",
       "       -3.63688534e-03, -3.00319339e-03,  1.26154821e-02, -4.51306579e-03,\n",
       "       -3.33723136e-03,  1.12612324e-02, -2.31648511e-03, -8.78977703e-03,\n",
       "        1.48154830e-02,  2.10393091e-02, -3.61362458e-04,  1.35895734e-03,\n",
       "       -5.69676481e-03,  5.94705895e-03, -1.66739050e-03,  7.69632800e-03,\n",
       "       -4.46761705e-04, -5.08023557e-03, -1.05235698e-02, -1.97099465e-03,\n",
       "        1.80484051e-02, -6.46886885e-03, -1.57283772e-02, -1.75321431e-02,\n",
       "       -7.19555200e-03,  6.39984837e-03,  6.28546954e-03, -6.82400541e-03,\n",
       "       -6.49375966e-03, -9.92523357e-04, -1.04478656e-02,  2.15698273e-03,\n",
       "       -4.20503614e-03,  1.12428696e-03, -2.76390753e-03, -1.03466345e-02,\n",
       "       -1.80827089e-02, -9.79821524e-03,  1.50047213e-03,  3.00956578e-03,\n",
       "       -6.46422475e-03, -1.88040233e-02])"
      ]
     },
     "execution_count": 36,
     "metadata": {},
     "output_type": "execute_result"
    }
   ],
   "source": [
    "weights.mean(axis=1)"
   ]
  },
  {
   "cell_type": "code",
   "execution_count": 54,
   "metadata": {
    "scrolled": true
   },
   "outputs": [
    {
     "data": {
      "text/plain": [
       "array([1.01964705, 0.98270191, 1.00655417, 0.99579894, 0.99648385,\n",
       "       1.01420519, 1.02345937, 0.99724839, 1.00513   , 1.00355516,\n",
       "       0.99215595, 1.00525929, 0.9923381 , 1.00851076, 1.02830676,\n",
       "       0.98998919, 1.00546357, 1.01636768, 1.01121691, 1.00911221,\n",
       "       0.99043671, 1.03451988, 0.99609126, 1.00706663, 0.9827596 ,\n",
       "       0.99136842, 1.00559006, 0.98536427, 0.98107142, 0.99733334,\n",
       "       0.99816264, 0.97756983, 0.99807175, 1.01379839, 1.00479316,\n",
       "       0.99400246, 1.00846205, 0.9879811 , 0.99233798, 1.00466379,\n",
       "       1.00987433, 1.00805166, 1.01448033, 1.00532115, 0.98519064,\n",
       "       1.01345333, 1.00108991, 1.01136679, 0.9915659 , 1.00043081,\n",
       "       1.01160247, 0.979764  , 1.01113046, 0.99942877, 1.01684027,\n",
       "       1.00435746, 0.97942883, 1.00301932, 1.01924681, 1.01999085,\n",
       "       0.9925215 , 0.99849436, 1.00239104, 0.99226148, 1.01971226,\n",
       "       1.00871339, 0.99550104, 1.00154589, 0.99940149, 1.02184699,\n",
       "       0.992538  , 0.97535321, 0.99937463, 0.96935877, 1.01905082,\n",
       "       1.00005022, 1.00724637, 1.00485453, 0.98854928, 1.00153457,\n",
       "       0.99419221, 1.0138412 , 0.99647182, 1.00661789, 0.97895218,\n",
       "       1.00801282, 1.02430189, 1.02892352, 0.97558935, 0.99105602,\n",
       "       0.98470079, 0.95819897, 0.98098479, 0.99549465, 1.02446301,\n",
       "       0.97529866, 1.00281031, 1.00917934, 1.02729322, 0.98198335,\n",
       "       0.99765606, 1.03759731, 0.96164197, 0.98383685, 0.98937986,\n",
       "       0.99914305, 1.00341789, 0.9913299 , 0.99459695, 0.97872176,\n",
       "       1.0297641 , 1.0122889 , 0.99210224, 1.00294918, 1.01382663,\n",
       "       1.02403798, 0.98889952, 1.01045675, 0.99046327, 0.98756295,\n",
       "       1.01409778, 1.02254689, 0.99956733, 1.01833834, 0.98741865,\n",
       "       1.00770168, 1.00602196, 0.96633162, 1.02870398, 0.96732431,\n",
       "       0.98917418, 1.01667377, 1.03837869, 0.99522304, 0.99908686,\n",
       "       1.01011185, 0.9677956 , 1.00137976, 0.97609183, 1.0036764 ,\n",
       "       0.97733218, 1.00326219, 0.99529196, 0.99285377, 1.00081702,\n",
       "       1.01283405, 1.00408068, 1.01725983, 0.98122375, 1.00344648,\n",
       "       1.02005913, 0.97221508, 1.0264178 , 1.01266557, 1.01417951,\n",
       "       0.99616874, 0.99496662, 1.01917605, 0.97792363, 1.00068409,\n",
       "       1.01038914, 1.03091321, 0.9985432 , 0.96185739, 0.98487753,\n",
       "       1.00248633, 1.01700595, 0.9871621 , 1.00491713, 1.00642302,\n",
       "       0.9834158 , 1.00266752, 0.97326189, 0.99420158, 1.01412942,\n",
       "       1.00177273, 1.01118903, 0.98591483, 0.97873267, 0.98157167,\n",
       "       1.01786745, 0.98932584, 0.99643161, 1.00709725, 0.99026667,\n",
       "       1.00333041, 1.01205311, 1.01051638, 0.99525158, 1.00958804,\n",
       "       0.99704193, 0.96759351, 0.98522885, 1.00591606, 0.98070972,\n",
       "       1.01562358, 1.01664579, 0.98784137, 1.02902954, 0.9957155 ,\n",
       "       0.98416045, 1.00172691, 0.99292067, 1.00928495, 0.99009361,\n",
       "       0.98593703, 1.00921483, 1.02251268, 1.01224526, 1.00545962,\n",
       "       1.01962679, 1.00794623, 1.00909212, 0.98126561, 1.01273637,\n",
       "       0.99767683, 1.00482668, 0.97877534, 1.00250082, 0.99201491,\n",
       "       1.00685723, 0.99205773, 0.97750688, 1.00764485, 0.99120908,\n",
       "       0.99401373, 0.97821528, 1.00420823, 0.99756839, 0.99255731,\n",
       "       0.98748984, 1.00228526, 0.99982867, 1.01049986, 0.99363053,\n",
       "       1.01310947, 1.04019854, 0.9799159 , 1.04402511, 1.01271139,\n",
       "       1.0063404 , 1.00440996, 1.01215059, 0.99613777, 1.0029121 ,\n",
       "       0.99949417, 1.02121941, 0.99902847, 0.99585153, 1.01275607])"
      ]
     },
     "execution_count": 54,
     "metadata": {},
     "output_type": "execute_result"
    }
   ],
   "source": [
    "weights.var(axis=1)"
   ]
  },
  {
   "cell_type": "code",
   "execution_count": 52,
   "metadata": {},
   "outputs": [
    {
     "data": {
      "text/plain": [
       "93.3172503455215"
      ]
     },
     "execution_count": 52,
     "metadata": {},
     "output_type": "execute_result"
    }
   ],
   "source": [
    "weights.sum(axis=1).std()"
   ]
  },
  {
   "cell_type": "code",
   "execution_count": null,
   "metadata": {},
   "outputs": [],
   "source": []
  },
  {
   "cell_type": "markdown",
   "metadata": {},
   "source": [
    "# XOR Gate Prediction"
   ]
  },
  {
   "cell_type": "code",
   "execution_count": null,
   "metadata": {},
   "outputs": [],
   "source": [
    "X = np.array([[0, 0],\n",
    "              [0, 1],\n",
    "              [1, 0],\n",
    "              [1, 1]])\n",
    "\n",
    "Y = np.array([[0], [1],\n",
    "              [1], [0]])"
   ]
  },
  {
   "cell_type": "code",
   "execution_count": null,
   "metadata": {},
   "outputs": [],
   "source": [
    "model = network.Sequential()\n",
    "model.add_layer(layer.Dense(n_neurons=3, name='Layer_1', freeze_weights=False, weights=np.array([[0.1, 0.2, 0.3],\n",
    "                                                                                                     [0.6, 0.4, 0.7]]),\n",
    "                                bias=np.array([[0, 0, 0]])))\n",
    "\n",
    "model.add_layer(activation.Sigmoid(name='Activation_1'))\n",
    "\n",
    "model.add_layer(layer.Dense(n_neurons=1, name='Layer_2', freeze_weights=False, weights=np.array([[0.1],\n",
    "                                                                                                     [0.4],\n",
    "                                                                                                     [0.9]]),\n",
    "                                bias = np.array([[0]])))\n",
    "\n",
    "model.add_layer(activation.Sigmoid(name='Activation_2'))\n",
    "\n",
    "print(model)\n",
    "model.compile(loss=loss.MSE(), inputs=X, target=Y, batch=4)\n",
    "print(model)\n",
    "\n",
    "model.train(epochs=5000)\n",
    "\n",
    "pred_val = model.predict(inputs=X)\n",
    "print(pred_val)"
   ]
  },
  {
   "cell_type": "raw",
   "metadata": {},
   "source": []
  },
  {
   "cell_type": "markdown",
   "metadata": {},
   "source": [
    "# Quantile Regression Prediction Interval\n",
    "Prediction Interval at 0.977 - 0.023 ~ 0.95"
   ]
  },
  {
   "cell_type": "code",
   "execution_count": null,
   "metadata": {},
   "outputs": [],
   "source": [
    "def f_predictable(x):\n",
    "    return x+np.sin(np.pi*x/2)\n",
    "\n",
    "\n",
    "def f(x, std=0.2):\n",
    "    return f_predictable(x)+np.random.randn(len(x))*std\n",
    "\n",
    "\n",
    "def get_data(num, start=0, end=4):\n",
    "        x = np.sort(np.random.rand(num)*(end-start)+start)\n",
    "        y = f(x)\n",
    "        return x.reshape(-1, 1), y\n",
    "\n",
    "x_train, y_train = get_data(num=20000)\n",
    "y_train = y_train.reshape(-1,1)\n",
    "x_test, y_test = get_data(num=1000)\n",
    "y_test = y_test.reshape(-1,1)"
   ]
  },
  {
   "cell_type": "code",
   "execution_count": null,
   "metadata": {},
   "outputs": [],
   "source": [
    "model_upper = network.Sequential()\n",
    "\n",
    "model_upper.add_layer(layer.Dense(n_neurons=100, name='Layer_1', freeze_weights=False, lr=0.01))\n",
    "\n",
    "model_upper.add_layer(activation.ReLU(name='Activation_1'))\n",
    "\n",
    "model_upper.add_layer(layer.Dense(n_neurons=100, name='Layer_2', freeze_weights=False, lr=0.01))\n",
    "\n",
    "model_upper.add_layer(activation.ReLU(name='Activation_2'))\n",
    "\n",
    "model_upper.add_layer(layer.Dense(n_neurons=100, name='Layer_3', freeze_weights=False, lr=0.01))\n",
    "\n",
    "model_upper.add_layer(activation.ReLU(name='Activation_3'))\n",
    "\n",
    "model_upper.add_layer(layer.Dense(n_neurons=1, name='Layer_4', freeze_weights=False, lr=0.01))\n",
    "\n",
    "model_upper.compile(loss=loss.Quantile(quantile=0.977), inputs=x_train, target=y_train, batch=24)\n",
    "\n",
    "model_upper.train(epochs=400)"
   ]
  },
  {
   "cell_type": "code",
   "execution_count": null,
   "metadata": {},
   "outputs": [],
   "source": [
    "model_lower = network.Sequential()\n",
    "\n",
    "model_lower.add_layer(layer.Dense(n_neurons=100, name='Layer_1', freeze_weights=False, lr=0.01))\n",
    "\n",
    "model_lower.add_layer(activation.ReLU(name='Activation_1'))\n",
    "\n",
    "model_lower.add_layer(layer.Dense(n_neurons=100, name='Layer_2', freeze_weights=False, lr=0.01))\n",
    "\n",
    "model_lower.add_layer(activation.ReLU(name='Activation_2'))\n",
    "\n",
    "model_lower.add_layer(layer.Dense(n_neurons=100, name='Layer_3', freeze_weights=False, lr=0.01))\n",
    "\n",
    "model_lower.add_layer(activation.ReLU(name='Activation_3'))\n",
    "\n",
    "model_lower.add_layer(layer.Dense(n_neurons=1, name='Layer_4', freeze_weights=False, lr=0.01))\n",
    "\n",
    "model_lower.compile(loss=loss.Quantile(quantile=0.023), inputs=x_train, target=y_train, batch=24)\n",
    "\n",
    "model_lower.train(epochs=400)"
   ]
  },
  {
   "cell_type": "code",
   "execution_count": null,
   "metadata": {},
   "outputs": [],
   "source": [
    "fig = go.Figure()\n",
    "\n",
    "fig.add_trace(go.Scatter(x=x_train.reshape(-1), y=y_train.reshape(-1),\n",
    "                    mode='markers',\n",
    "                    name='Original Data'))\n",
    "\n",
    "fig.add_trace(go.Scatter(x=x_test.reshape(-1), y=model_upper.predict(x_test).reshape(-1),\n",
    "                    mode='lines',\n",
    "                    name='Upper Bound'))\n",
    "\n",
    "fig.add_trace(go.Scatter(x=x_test.reshape(-1), y=model_lower.predict(x_test).reshape(-1),\n",
    "                    mode='lines',\n",
    "                    name='Lower Bound'))\n",
    "\n",
    "\n",
    "fig.show()"
   ]
  },
  {
   "cell_type": "raw",
   "metadata": {},
   "source": []
  },
  {
   "cell_type": "markdown",
   "metadata": {},
   "source": [
    "# Image Classification\n",
    "Multi Class Prediction"
   ]
  },
  {
   "cell_type": "code",
   "execution_count": null,
   "metadata": {},
   "outputs": [],
   "source": [
    "np.random.seed(42)\n",
    "\n",
    "cat_images = np.random.randn(700, 2) + np.array([0, -3])\n",
    "mouse_images = np.random.randn(700, 2) + np.array([3, 3])\n",
    "dog_images = np.random.randn(700, 2) + np.array([-3, 3])\n",
    "\n",
    "feature_set = np.vstack([cat_images, mouse_images, dog_images])\n",
    "labels = np.array([0]*700 + [1]*700 + [2]*700)\n",
    "\n",
    "one_hot_labels = np.zeros((2100, 3))\n",
    "\n",
    "for i in range(2100):\n",
    "    one_hot_labels[i, labels[i]] = 1\n",
    "    \n",
    "dataset = pd.DataFrame(np.hstack([feature_set, labels.reshape(-1, 1)]), columns=['X','Y','Labels'])\n",
    "dataset.Labels = dataset.Labels.astype('str')"
   ]
  },
  {
   "cell_type": "code",
   "execution_count": null,
   "metadata": {},
   "outputs": [],
   "source": [
    "fig = px.scatter(dataset, x=\"X\", y=\"Y\", color=\"Labels\", hover_data=[dataset.index])\n",
    "fig.update_layout(width=1000, height=800)\n",
    "fig.show()"
   ]
  },
  {
   "cell_type": "markdown",
   "metadata": {},
   "source": [
    "Using Cross Entropy"
   ]
  },
  {
   "cell_type": "code",
   "execution_count": null,
   "metadata": {
    "scrolled": true
   },
   "outputs": [],
   "source": [
    "model = network.Sequential()\n",
    "\n",
    "model.add_layer(layer.Dense(n_neurons=4, name='Layer_1', freeze_weights=False, lr=0.001))\n",
    "\n",
    "model.add_layer(activation.Sigmoid(name='Activation_1'))\n",
    "\n",
    "model.add_layer(layer.Dense(n_neurons=3, name='Layer_2', freeze_weights=False, lr=0.001))\n",
    "\n",
    "model.add_layer(activation.Sigmoid(name='Activation_2'))\n",
    "\n",
    "model.compile(loss=loss.CrossEntropy(), inputs=feature_set, target=one_hot_labels, batch=16)\n",
    "\n",
    "model.train(epochs=1000)"
   ]
  },
  {
   "cell_type": "code",
   "execution_count": null,
   "metadata": {},
   "outputs": [],
   "source": [
    "pred_val = np.argmax(model.predict(feature_set), axis=1)\n",
    "np.where((pred_val == labels)==False)"
   ]
  },
  {
   "cell_type": "raw",
   "metadata": {},
   "source": []
  },
  {
   "cell_type": "markdown",
   "metadata": {},
   "source": [
    "Using SquaredHinge"
   ]
  },
  {
   "cell_type": "code",
   "execution_count": null,
   "metadata": {},
   "outputs": [],
   "source": [
    "one_hot_labels = -1*np.ones((2100, 3))\n",
    "\n",
    "for i in range(2100):\n",
    "    one_hot_labels[i, labels[i]] = 1"
   ]
  },
  {
   "cell_type": "code",
   "execution_count": null,
   "metadata": {
    "scrolled": true
   },
   "outputs": [],
   "source": [
    "model = network.Sequential()\n",
    "\n",
    "model.add_layer(layer.Dense(n_neurons=4, name='Layer_1', freeze_weights=False, lr=0.001))\n",
    "\n",
    "model.add_layer(activation.Sigmoid(name='Activation_1'))\n",
    "\n",
    "model.add_layer(layer.Dense(n_neurons=3, name='Layer_2', freeze_weights=False, lr=0.001))\n",
    "\n",
    "model.add_layer(activation.Tanh(name='Activation_2'))\n",
    "\n",
    "model.compile(loss=loss.SquaredHinge(), inputs=feature_set, target=one_hot_labels, batch=16)\n",
    "\n",
    "model.train(epochs=1000)"
   ]
  },
  {
   "cell_type": "code",
   "execution_count": null,
   "metadata": {},
   "outputs": [],
   "source": [
    "pred_val = np.argmax(model.predict(feature_set), axis=1)\n",
    "np.where((pred_val == labels)==False)"
   ]
  },
  {
   "cell_type": "raw",
   "metadata": {},
   "source": []
  },
  {
   "cell_type": "markdown",
   "metadata": {},
   "source": [
    "# Image Classification\n",
    "Multi Label Prediction"
   ]
  },
  {
   "cell_type": "code",
   "execution_count": null,
   "metadata": {},
   "outputs": [],
   "source": [
    "np.random.seed(42)\n",
    "\n",
    "cat_images = np.random.randn(700, 2) + np.array([0, -3])\n",
    "mouse_images = np.random.randn(700, 2) + np.array([3, 3])\n",
    "dog_images = np.random.randn(700, 2) + np.array([-3, 3])\n",
    "\n",
    "feature_set = np.vstack([cat_images, mouse_images, dog_images])\n",
    "labels = np.array([0]*700 + [1]*700 + [1]*700)\n",
    "\n",
    "one_hot_labels = np.zeros((2100, 3))\n",
    "\n",
    "for i in range(700):\n",
    "    one_hot_labels[i, labels[i]] = 1\n",
    "    \n",
    "for i in range(700, 2100):\n",
    "    one_hot_labels[i,1:] = 1\n",
    "    \n",
    "dataset = pd.DataFrame(np.hstack([feature_set, labels.reshape(-1, 1)]), columns=['X','Y','Labels'])\n",
    "dataset.Labels = dataset.Labels.astype('str')"
   ]
  },
  {
   "cell_type": "code",
   "execution_count": null,
   "metadata": {},
   "outputs": [],
   "source": [
    "fig = px.scatter(dataset, x=\"X\", y=\"Y\", color=\"Labels\", hover_data=[dataset.index])\n",
    "fig.update_layout(width=1000, height=800)\n",
    "fig.show()"
   ]
  },
  {
   "cell_type": "markdown",
   "metadata": {},
   "source": [
    "Using Cross Entropy"
   ]
  },
  {
   "cell_type": "code",
   "execution_count": null,
   "metadata": {},
   "outputs": [],
   "source": [
    "model = network.Sequential()\n",
    "\n",
    "model.add_layer(layer.Dense(n_neurons=4, name='Layer_1', freeze_weights=False, lr=0.001))\n",
    "\n",
    "model.add_layer(activation.Sigmoid(name='Activation_1'))\n",
    "\n",
    "model.add_layer(layer.Dense(n_neurons=3, name='Layer_2', freeze_weights=False, lr=0.001))\n",
    "\n",
    "model.add_layer(activation.Sigmoid(name='Activation_2'))\n",
    "\n",
    "model.compile(loss=loss.CrossEntropy(), inputs=feature_set, target=one_hot_labels, batch=16)\n",
    "\n",
    "model.train(epochs=1000)"
   ]
  },
  {
   "cell_type": "code",
   "execution_count": null,
   "metadata": {},
   "outputs": [],
   "source": [
    "pred_val = np.where(model.predict(feature_set)>0.5, 1, 0)\n",
    "np.where((pred_val == one_hot_labels)==False)"
   ]
  },
  {
   "cell_type": "raw",
   "metadata": {},
   "source": [
    " "
   ]
  },
  {
   "cell_type": "markdown",
   "metadata": {},
   "source": [
    "Using SquaredHinge"
   ]
  },
  {
   "cell_type": "code",
   "execution_count": null,
   "metadata": {},
   "outputs": [],
   "source": [
    "one_hot_labels = -np.ones((2100, 3))\n",
    "\n",
    "for i in range(700):\n",
    "    one_hot_labels[i, labels[i]] = 1\n",
    "    \n",
    "for i in range(700, 2100):\n",
    "    one_hot_labels[i,1:] = 1"
   ]
  },
  {
   "cell_type": "code",
   "execution_count": null,
   "metadata": {},
   "outputs": [],
   "source": [
    "model = network.Sequential()\n",
    "\n",
    "model.add_layer(layer.Dense(n_neurons=4, name='Layer_1', freeze_weights=False, lr=0.001))\n",
    "\n",
    "model.add_layer(activation.Sigmoid(name='Activation_1'))\n",
    "\n",
    "model.add_layer(layer.Dense(n_neurons=3, name='Layer_2', freeze_weights=False, lr=0.001))\n",
    "\n",
    "model.add_layer(activation.Tanh(name='Activation_2'))\n",
    "\n",
    "model.compile(loss=loss.SquaredHinge(), inputs=feature_set, target=one_hot_labels, batch=16)\n",
    "\n",
    "model.train(epochs=1000)"
   ]
  },
  {
   "cell_type": "code",
   "execution_count": null,
   "metadata": {},
   "outputs": [],
   "source": [
    "pred_val = np.where(model.predict(feature_set)>0, 1, -1)\n",
    "np.where((pred_val == one_hot_labels)==False)"
   ]
  },
  {
   "cell_type": "code",
   "execution_count": null,
   "metadata": {},
   "outputs": [],
   "source": []
  }
 ],
 "metadata": {
  "kernelspec": {
   "display_name": "Python 3",
   "language": "python",
   "name": "python3"
  },
  "language_info": {
   "codemirror_mode": {
    "name": "ipython",
    "version": 3
   },
   "file_extension": ".py",
   "mimetype": "text/x-python",
   "name": "python",
   "nbconvert_exporter": "python",
   "pygments_lexer": "ipython3",
   "version": "3.9.1"
  }
 },
 "nbformat": 4,
 "nbformat_minor": 4
}
