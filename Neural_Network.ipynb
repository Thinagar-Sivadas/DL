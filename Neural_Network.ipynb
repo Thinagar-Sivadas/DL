{
 "cells": [
  {
   "cell_type": "code",
   "execution_count": null,
   "metadata": {},
   "outputs": [],
   "source": [
    "import numpy as np\n",
    "import pandas as pd\n",
    "from NeuralNetwork import loss, activation, layer, network\n",
    "import plotly.graph_objects as go\n",
    "import plotly.express as px"
   ]
  },
  {
   "cell_type": "markdown",
   "metadata": {},
   "source": [
    "# XOR Gate Prediction"
   ]
  },
  {
   "cell_type": "code",
   "execution_count": null,
   "metadata": {},
   "outputs": [],
   "source": [
    "X = np.array([[0, 0],\n",
    "              [0, 1],\n",
    "              [1, 0],\n",
    "              [1, 1]])\n",
    "\n",
    "Y = np.array([[0], [1],\n",
    "              [1], [0]])"
   ]
  },
  {
   "cell_type": "code",
   "execution_count": null,
   "metadata": {},
   "outputs": [],
   "source": [
    "model = network.Sequential()\n",
    "model.add_layer(layer.Dense(n_neurons=3, name='Layer_1', freeze_weights=False, weights=np.array([[0.1, 0.2, 0.3],\n",
    "                                                                                                     [0.6, 0.4, 0.7]]),\n",
    "                                bias=np.array([[0, 0, 0]])))\n",
    "\n",
    "model.add_layer(activation.Sigmoid(name='Activation_1'))\n",
    "\n",
    "model.add_layer(layer.Dense(n_neurons=1, name='Layer_2', freeze_weights=False, weights=np.array([[0.1],\n",
    "                                                                                                     [0.4],\n",
    "                                                                                                     [0.9]]),\n",
    "                                bias = np.array([[0]])))\n",
    "\n",
    "model.add_layer(activation.Sigmoid(name='Activation_2'))\n",
    "\n",
    "print(model)\n",
    "model.compile(loss=loss.MSE(), inputs=X, target=Y, batch=4)\n",
    "print(model)\n",
    "\n",
    "model.train(epochs=5000)\n",
    "\n",
    "pred_val = model.predict(inputs=X)\n",
    "print(pred_val)"
   ]
  },
  {
   "cell_type": "raw",
   "metadata": {},
   "source": []
  },
  {
   "cell_type": "markdown",
   "metadata": {},
   "source": [
    "# Quantile Regression Prediction Interval\n",
    "Prediction Interval at 0.977 - 0.023 ~ 0.95"
   ]
  },
  {
   "cell_type": "code",
   "execution_count": null,
   "metadata": {},
   "outputs": [],
   "source": [
    "def f_predictable(x):\n",
    "    return x+np.sin(np.pi*x/2)\n",
    "\n",
    "\n",
    "def f(x, std=0.2):\n",
    "    return f_predictable(x)+np.random.randn(len(x))*std\n",
    "\n",
    "\n",
    "def get_data(num, start=0, end=4):\n",
    "        x = np.sort(np.random.rand(num)*(end-start)+start)\n",
    "        y = f(x)\n",
    "        return x.reshape(-1, 1), y\n",
    "\n",
    "x_train, y_train = get_data(num=20000)\n",
    "y_train = y_train.reshape(-1,1)\n",
    "x_test, y_test = get_data(num=1000)\n",
    "y_test = y_test.reshape(-1,1)"
   ]
  },
  {
   "cell_type": "code",
   "execution_count": null,
   "metadata": {},
   "outputs": [],
   "source": [
    "model_upper = network.Sequential()\n",
    "\n",
    "model_upper.add_layer(layer.Dense(n_neurons=100, name='Layer_1', freeze_weights=False, lr=0.01))\n",
    "\n",
    "model_upper.add_layer(activation.ReLU(name='Activation_1'))\n",
    "\n",
    "model_upper.add_layer(layer.Dense(n_neurons=100, name='Layer_2', freeze_weights=False, lr=0.01))\n",
    "\n",
    "model_upper.add_layer(activation.ReLU(name='Activation_2'))\n",
    "\n",
    "model_upper.add_layer(layer.Dense(n_neurons=100, name='Layer_3', freeze_weights=False, lr=0.01))\n",
    "\n",
    "model_upper.add_layer(activation.ReLU(name='Activation_3'))\n",
    "\n",
    "model_upper.add_layer(layer.Dense(n_neurons=1, name='Layer_4', freeze_weights=False, lr=0.01))\n",
    "\n",
    "model_upper.compile(loss=loss.Quantile(quantile=0.977), inputs=x_train, target=y_train, batch=24)\n",
    "\n",
    "model_upper.train(epochs=400)"
   ]
  },
  {
   "cell_type": "code",
   "execution_count": null,
   "metadata": {},
   "outputs": [],
   "source": [
    "model_lower = network.Sequential()\n",
    "\n",
    "model_lower.add_layer(layer.Dense(n_neurons=100, name='Layer_1', freeze_weights=False, lr=0.01))\n",
    "\n",
    "model_lower.add_layer(activation.ReLU(name='Activation_1'))\n",
    "\n",
    "model_lower.add_layer(layer.Dense(n_neurons=100, name='Layer_2', freeze_weights=False, lr=0.01))\n",
    "\n",
    "model_lower.add_layer(activation.ReLU(name='Activation_2'))\n",
    "\n",
    "model_lower.add_layer(layer.Dense(n_neurons=100, name='Layer_3', freeze_weights=False, lr=0.01))\n",
    "\n",
    "model_lower.add_layer(activation.ReLU(name='Activation_3'))\n",
    "\n",
    "model_lower.add_layer(layer.Dense(n_neurons=1, name='Layer_4', freeze_weights=False, lr=0.01))\n",
    "\n",
    "model_lower.compile(loss=loss.Quantile(quantile=0.023), inputs=x_train, target=y_train, batch=24)\n",
    "\n",
    "model_lower.train(epochs=400)"
   ]
  },
  {
   "cell_type": "code",
   "execution_count": null,
   "metadata": {},
   "outputs": [],
   "source": [
    "fig = go.Figure()\n",
    "\n",
    "fig.add_trace(go.Scatter(x=x_train.reshape(-1), y=y_train.reshape(-1),\n",
    "                    mode='markers',\n",
    "                    name='Original Data'))\n",
    "\n",
    "fig.add_trace(go.Scatter(x=x_test.reshape(-1), y=model_upper.predict(x_test).reshape(-1),\n",
    "                    mode='lines',\n",
    "                    name='Upper Bound'))\n",
    "\n",
    "fig.add_trace(go.Scatter(x=x_test.reshape(-1), y=model_lower.predict(x_test).reshape(-1),\n",
    "                    mode='lines',\n",
    "                    name='Lower Bound'))\n",
    "\n",
    "\n",
    "fig.show()"
   ]
  },
  {
   "cell_type": "raw",
   "metadata": {},
   "source": []
  },
  {
   "cell_type": "markdown",
   "metadata": {},
   "source": [
    "# Image Classification\n",
    "Multi Class Prediction"
   ]
  },
  {
   "cell_type": "code",
   "execution_count": null,
   "metadata": {},
   "outputs": [],
   "source": [
    "np.random.seed(42)\n",
    "\n",
    "cat_images = np.random.randn(700, 2) + np.array([0, -3])\n",
    "mouse_images = np.random.randn(700, 2) + np.array([3, 3])\n",
    "dog_images = np.random.randn(700, 2) + np.array([-3, 3])\n",
    "\n",
    "feature_set = np.vstack([cat_images, mouse_images, dog_images])\n",
    "labels = np.array([0]*700 + [1]*700 + [2]*700)\n",
    "\n",
    "one_hot_labels = np.zeros((2100, 3))\n",
    "\n",
    "for i in range(2100):\n",
    "    one_hot_labels[i, labels[i]] = 1\n",
    "    \n",
    "dataset = pd.DataFrame(np.hstack([feature_set, labels.reshape(-1, 1)]), columns=['X','Y','Labels'])\n",
    "dataset.Labels = dataset.Labels.astype('str')"
   ]
  },
  {
   "cell_type": "code",
   "execution_count": null,
   "metadata": {},
   "outputs": [],
   "source": [
    "fig = px.scatter(dataset, x=\"X\", y=\"Y\", color=\"Labels\", hover_data=[dataset.index])\n",
    "fig.update_layout(width=1000, height=800)\n",
    "fig.show()"
   ]
  },
  {
   "cell_type": "markdown",
   "metadata": {},
   "source": [
    "Using Cross Entropy"
   ]
  },
  {
   "cell_type": "code",
   "execution_count": null,
   "metadata": {
    "scrolled": true
   },
   "outputs": [],
   "source": [
    "model = network.Sequential()\n",
    "\n",
    "model.add_layer(layer.Dense(n_neurons=4, name='Layer_1', freeze_weights=False, lr=0.001))\n",
    "\n",
    "model.add_layer(activation.Sigmoid(name='Activation_1'))\n",
    "\n",
    "model.add_layer(layer.Dense(n_neurons=3, name='Layer_2', freeze_weights=False, lr=0.001))\n",
    "\n",
    "model.add_layer(activation.Sigmoid(name='Activation_2'))\n",
    "\n",
    "model.compile(loss=loss.CrossEntropy(), inputs=feature_set, target=one_hot_labels, batch=16)\n",
    "\n",
    "model.train(epochs=1000)"
   ]
  },
  {
   "cell_type": "code",
   "execution_count": null,
   "metadata": {},
   "outputs": [],
   "source": [
    "pred_val = np.argmax(model.predict(feature_set), axis=1)\n",
    "np.where((pred_val == labels)==False)"
   ]
  },
  {
   "cell_type": "raw",
   "metadata": {},
   "source": []
  },
  {
   "cell_type": "markdown",
   "metadata": {},
   "source": [
    "Using SquaredHinge"
   ]
  },
  {
   "cell_type": "code",
   "execution_count": null,
   "metadata": {},
   "outputs": [],
   "source": [
    "one_hot_labels = -1*np.ones((2100, 3))\n",
    "\n",
    "for i in range(2100):\n",
    "    one_hot_labels[i, labels[i]] = 1"
   ]
  },
  {
   "cell_type": "code",
   "execution_count": null,
   "metadata": {
    "scrolled": true
   },
   "outputs": [],
   "source": [
    "model = network.Sequential()\n",
    "\n",
    "model.add_layer(layer.Dense(n_neurons=4, name='Layer_1', freeze_weights=False, lr=0.001))\n",
    "\n",
    "model.add_layer(activation.Sigmoid(name='Activation_1'))\n",
    "\n",
    "model.add_layer(layer.Dense(n_neurons=3, name='Layer_2', freeze_weights=False, lr=0.001))\n",
    "\n",
    "model.add_layer(activation.Tanh(name='Activation_2'))\n",
    "\n",
    "model.compile(loss=loss.SquaredHinge(), inputs=feature_set, target=one_hot_labels, batch=16)\n",
    "\n",
    "model.train(epochs=1000)"
   ]
  },
  {
   "cell_type": "code",
   "execution_count": null,
   "metadata": {},
   "outputs": [],
   "source": [
    "pred_val = np.argmax(model.predict(feature_set), axis=1)\n",
    "np.where((pred_val == labels)==False)"
   ]
  },
  {
   "cell_type": "raw",
   "metadata": {},
   "source": []
  },
  {
   "cell_type": "markdown",
   "metadata": {},
   "source": [
    "# Image Classification\n",
    "Multi Label Prediction"
   ]
  },
  {
   "cell_type": "code",
   "execution_count": null,
   "metadata": {},
   "outputs": [],
   "source": [
    "np.random.seed(42)\n",
    "\n",
    "cat_images = np.random.randn(700, 2) + np.array([0, -3])\n",
    "mouse_images = np.random.randn(700, 2) + np.array([3, 3])\n",
    "dog_images = np.random.randn(700, 2) + np.array([-3, 3])\n",
    "\n",
    "feature_set = np.vstack([cat_images, mouse_images, dog_images])\n",
    "labels = np.array([0]*700 + [1]*700 + [1]*700)\n",
    "\n",
    "one_hot_labels = np.zeros((2100, 3))\n",
    "\n",
    "for i in range(700):\n",
    "    one_hot_labels[i, labels[i]] = 1\n",
    "    \n",
    "for i in range(700, 2100):\n",
    "    one_hot_labels[i,1:] = 1\n",
    "    \n",
    "dataset = pd.DataFrame(np.hstack([feature_set, labels.reshape(-1, 1)]), columns=['X','Y','Labels'])\n",
    "dataset.Labels = dataset.Labels.astype('str')"
   ]
  },
  {
   "cell_type": "code",
   "execution_count": null,
   "metadata": {},
   "outputs": [],
   "source": [
    "fig = px.scatter(dataset, x=\"X\", y=\"Y\", color=\"Labels\", hover_data=[dataset.index])\n",
    "fig.update_layout(width=1000, height=800)\n",
    "fig.show()"
   ]
  },
  {
   "cell_type": "markdown",
   "metadata": {},
   "source": [
    "Using Cross Entropy"
   ]
  },
  {
   "cell_type": "code",
   "execution_count": null,
   "metadata": {},
   "outputs": [],
   "source": [
    "model = network.Sequential()\n",
    "\n",
    "model.add_layer(layer.Dense(n_neurons=4, name='Layer_1', freeze_weights=False, lr=0.001))\n",
    "\n",
    "model.add_layer(activation.Sigmoid(name='Activation_1'))\n",
    "\n",
    "model.add_layer(layer.Dense(n_neurons=3, name='Layer_2', freeze_weights=False, lr=0.001))\n",
    "\n",
    "model.add_layer(activation.Sigmoid(name='Activation_2'))\n",
    "\n",
    "model.compile(loss=loss.CrossEntropy(), inputs=feature_set, target=one_hot_labels, batch=16)\n",
    "\n",
    "model.train(epochs=1000)"
   ]
  },
  {
   "cell_type": "code",
   "execution_count": null,
   "metadata": {
    "scrolled": true
   },
   "outputs": [],
   "source": [
    "pred_val = np.where(model.predict(feature_set)>0.5, 1, 0)\n",
    "np.where((pred_val == one_hot_labels)==False)"
   ]
  },
  {
   "cell_type": "raw",
   "metadata": {},
   "source": [
    " "
   ]
  },
  {
   "cell_type": "markdown",
   "metadata": {},
   "source": [
    "Using SquaredHinge"
   ]
  },
  {
   "cell_type": "code",
   "execution_count": null,
   "metadata": {},
   "outputs": [],
   "source": [
    "one_hot_labels = -np.ones((2100, 3))\n",
    "\n",
    "for i in range(700):\n",
    "    one_hot_labels[i, labels[i]] = 1\n",
    "    \n",
    "for i in range(700, 2100):\n",
    "    one_hot_labels[i,1:] = 1"
   ]
  },
  {
   "cell_type": "code",
   "execution_count": null,
   "metadata": {},
   "outputs": [],
   "source": [
    "model = network.Sequential()\n",
    "\n",
    "model.add_layer(layer.Dense(n_neurons=4, name='Layer_1', freeze_weights=False, lr=0.001))\n",
    "\n",
    "model.add_layer(activation.Sigmoid(name='Activation_1'))\n",
    "\n",
    "model.add_layer(layer.Dense(n_neurons=3, name='Layer_2', freeze_weights=False, lr=0.001))\n",
    "\n",
    "model.add_layer(activation.Tanh(name='Activation_2'))\n",
    "\n",
    "model.compile(loss=loss.SquaredHinge(), inputs=feature_set, target=one_hot_labels, batch=16)\n",
    "\n",
    "model.train(epochs=1000)"
   ]
  },
  {
   "cell_type": "code",
   "execution_count": null,
   "metadata": {},
   "outputs": [],
   "source": [
    "pred_val = np.where(model.predict(feature_set)>0, 1, -1)\n",
    "np.where((pred_val == one_hot_labels)==False)"
   ]
  },
  {
   "cell_type": "code",
   "execution_count": null,
   "metadata": {},
   "outputs": [],
   "source": []
  },
  {
   "cell_type": "code",
   "execution_count": null,
   "metadata": {},
   "outputs": [],
   "source": []
  },
  {
   "cell_type": "code",
   "execution_count": 35,
   "metadata": {},
   "outputs": [],
   "source": [
    "from numba import njit\n",
    "from numba.experimental import jitclass\n",
    "import numpy as np"
   ]
  },
  {
   "cell_type": "code",
   "execution_count": 3,
   "metadata": {},
   "outputs": [],
   "source": [
    "class MSE():\n",
    "    \"\"\"MSE Loss Function\n",
    "    \"\"\"\n",
    "\n",
    "    def forward(self, target, pred_val):\n",
    "        \"\"\"Forward propagation\n",
    "        https://ml-cheatsheet.readthedocs.io/en/latest/backpropagation.html\n",
    "\n",
    "        Args:\n",
    "            target (samples, n_features): Target value\n",
    "            pred_val (samples, n_features): Predicted value\n",
    "        \"\"\"\n",
    "        self.target = target\n",
    "        self.pred_val = pred_val\n",
    "        diff = self.target - self.pred_val\n",
    "        self.output = np.sum(diff**2) / (self.target.size * 2)\n",
    "\n",
    "    def backward(self):\n",
    "        \"\"\"Backward propagation\n",
    "        https://ml-cheatsheet.readthedocs.io/en/latest/backpropagation.html\n",
    "\n",
    "        Returns:\n",
    "            samples, n_features: Gradient of loss\n",
    "        \"\"\"\n",
    "        diff = self.target - self.pred_val\n",
    "        self.delta_grad = -1 * diff / self.target.size\n",
    "        return self.delta_grad"
   ]
  },
  {
   "cell_type": "code",
   "execution_count": 4,
   "metadata": {},
   "outputs": [
    {
     "data": {
      "text/plain": [
       "array([[ 6,  1,  4, ...,  9, 15, 11],\n",
       "       [ 8, 13,  3, ..., 18, 17,  5],\n",
       "       [ 5,  2, 13, ..., 14,  1, 14],\n",
       "       ...,\n",
       "       [16, 11,  5, ..., 10,  6,  6],\n",
       "       [10,  8, 12, ..., 12, 13,  2],\n",
       "       [ 3, 13, 10, ...,  8,  8, 17]])"
      ]
     },
     "execution_count": 4,
     "metadata": {},
     "output_type": "execute_result"
    }
   ],
   "source": [
    "testdata = np.random.randint(low=1,high=20, size=(30000,30000))\n",
    "testdata"
   ]
  },
  {
   "cell_type": "code",
   "execution_count": 5,
   "metadata": {},
   "outputs": [],
   "source": [
    "mse = MSE()"
   ]
  },
  {
   "cell_type": "code",
   "execution_count": 6,
   "metadata": {},
   "outputs": [
    {
     "name": "stdout",
     "output_type": "stream",
     "text": [
      "Wall time: 2.04 s\n"
     ]
    }
   ],
   "source": [
    "%time mse.forward(target=testdata, pred_val=testdata)"
   ]
  },
  {
   "cell_type": "code",
   "execution_count": 79,
   "metadata": {},
   "outputs": [],
   "source": [
    "class MSE_parallel():\n",
    "    \"\"\"MSE Loss Function\n",
    "    \"\"\"\n",
    "\n",
    "    def __init__(self):\n",
    "        pass\n",
    "\n",
    "    @njit(parallel=True)\n",
    "    def forward(self, target, pred_val):\n",
    "        \"\"\"Forward propagation\n",
    "        https://ml-cheatsheet.readthedocs.io/en/latest/backpropagation.html\n",
    "\n",
    "        Args:\n",
    "            target (samples, n_features): Target value\n",
    "            pred_val (samples, n_features): Predicted value\n",
    "        \"\"\"\n",
    "        self.target = target\n",
    "        self.pred_val = pred_val\n",
    "        diff = self.target - self.pred_val\n",
    "        self.output = np.sum(diff**2) / (self.target.size * 2)\n",
    "\n",
    "    def backward(self):\n",
    "        \"\"\"Backward propagation\n",
    "        https://ml-cheatsheet.readthedocs.io/en/latest/backpropagation.html\n",
    "\n",
    "        Returns:\n",
    "            samples, n_features: Gradient of loss\n",
    "        \"\"\"\n",
    "        diff = self.target - self.pred_val\n",
    "        self.delta_grad = -1 * diff / self.target.size\n",
    "        return self.delta_grad\n",
    "    \n",
    "# @njit(parallel=True)\n",
    "# def forward(target, pred_val):\n",
    "#     \"\"\"Forward propagation\n",
    "#     https://ml-cheatsheet.readthedocs.io/en/latest/backpropagation.html\n",
    "\n",
    "#     Args:\n",
    "#         target (samples, n_features): Target value\n",
    "#         pred_val (samples, n_features): Predicted value\n",
    "#     \"\"\"\n",
    "#     target = target\n",
    "#     pred_val = pred_val\n",
    "#     diff = target - pred_val\n",
    "#     output = np.sum(diff**2) / (target.size * 2)\n"
   ]
  },
  {
   "cell_type": "code",
   "execution_count": 80,
   "metadata": {},
   "outputs": [],
   "source": [
    "mse_parallel = MSE_parallel()"
   ]
  },
  {
   "cell_type": "code",
   "execution_count": 81,
   "metadata": {},
   "outputs": [
    {
     "ename": "TypingError",
     "evalue": "Failed in nopython mode pipeline (step: nopython frontend)\n\u001b[1m\u001b[1mnon-precise type pyobject\u001b[0m\n\u001b[0m\u001b[1mDuring: typing of argument at <ipython-input-79-609933cbd498> (18)\u001b[0m\n\u001b[1m\nFile \"<ipython-input-79-609933cbd498>\", line 18:\u001b[0m\n\u001b[1m    def forward(self, target, pred_val):\n        <source elided>\n        \"\"\"\n\u001b[1m        self.target = target\n\u001b[0m        \u001b[1m^\u001b[0m\u001b[0m\n\nThis error may have been caused by the following argument(s):\n- argument 0: \u001b[1mcannot determine Numba type of <class 'type'>\u001b[0m\n",
     "output_type": "error",
     "traceback": [
      "\u001b[1;31m---------------------------------------------------------------------------\u001b[0m",
      "\u001b[1;31mTypingError\u001b[0m                               Traceback (most recent call last)",
      "\u001b[1;32m<timed eval>\u001b[0m in \u001b[0;36m<module>\u001b[1;34m\u001b[0m\n",
      "\u001b[1;32m~\\anaconda3\\envs\\DLL\\lib\\site-packages\\numba\\core\\dispatcher.py\u001b[0m in \u001b[0;36m_compile_for_args\u001b[1;34m(self, *args, **kws)\u001b[0m\n\u001b[0;32m    413\u001b[0m                 \u001b[0me\u001b[0m\u001b[1;33m.\u001b[0m\u001b[0mpatch_message\u001b[0m\u001b[1;33m(\u001b[0m\u001b[0mmsg\u001b[0m\u001b[1;33m)\u001b[0m\u001b[1;33m\u001b[0m\u001b[1;33m\u001b[0m\u001b[0m\n\u001b[0;32m    414\u001b[0m \u001b[1;33m\u001b[0m\u001b[0m\n\u001b[1;32m--> 415\u001b[1;33m             \u001b[0merror_rewrite\u001b[0m\u001b[1;33m(\u001b[0m\u001b[0me\u001b[0m\u001b[1;33m,\u001b[0m \u001b[1;34m'typing'\u001b[0m\u001b[1;33m)\u001b[0m\u001b[1;33m\u001b[0m\u001b[1;33m\u001b[0m\u001b[0m\n\u001b[0m\u001b[0;32m    416\u001b[0m         \u001b[1;32mexcept\u001b[0m \u001b[0merrors\u001b[0m\u001b[1;33m.\u001b[0m\u001b[0mUnsupportedError\u001b[0m \u001b[1;32mas\u001b[0m \u001b[0me\u001b[0m\u001b[1;33m:\u001b[0m\u001b[1;33m\u001b[0m\u001b[1;33m\u001b[0m\u001b[0m\n\u001b[0;32m    417\u001b[0m             \u001b[1;31m# Something unsupported is present in the user code, add help info\u001b[0m\u001b[1;33m\u001b[0m\u001b[1;33m\u001b[0m\u001b[1;33m\u001b[0m\u001b[0m\n",
      "\u001b[1;32m~\\anaconda3\\envs\\DLL\\lib\\site-packages\\numba\\core\\dispatcher.py\u001b[0m in \u001b[0;36merror_rewrite\u001b[1;34m(e, issue_type)\u001b[0m\n\u001b[0;32m    356\u001b[0m                 \u001b[1;32mraise\u001b[0m \u001b[0me\u001b[0m\u001b[1;33m\u001b[0m\u001b[1;33m\u001b[0m\u001b[0m\n\u001b[0;32m    357\u001b[0m             \u001b[1;32melse\u001b[0m\u001b[1;33m:\u001b[0m\u001b[1;33m\u001b[0m\u001b[1;33m\u001b[0m\u001b[0m\n\u001b[1;32m--> 358\u001b[1;33m                 \u001b[0mreraise\u001b[0m\u001b[1;33m(\u001b[0m\u001b[0mtype\u001b[0m\u001b[1;33m(\u001b[0m\u001b[0me\u001b[0m\u001b[1;33m)\u001b[0m\u001b[1;33m,\u001b[0m \u001b[0me\u001b[0m\u001b[1;33m,\u001b[0m \u001b[1;32mNone\u001b[0m\u001b[1;33m)\u001b[0m\u001b[1;33m\u001b[0m\u001b[1;33m\u001b[0m\u001b[0m\n\u001b[0m\u001b[0;32m    359\u001b[0m \u001b[1;33m\u001b[0m\u001b[0m\n\u001b[0;32m    360\u001b[0m         \u001b[0margtypes\u001b[0m \u001b[1;33m=\u001b[0m \u001b[1;33m[\u001b[0m\u001b[1;33m]\u001b[0m\u001b[1;33m\u001b[0m\u001b[1;33m\u001b[0m\u001b[0m\n",
      "\u001b[1;32m~\\anaconda3\\envs\\DLL\\lib\\site-packages\\numba\\core\\utils.py\u001b[0m in \u001b[0;36mreraise\u001b[1;34m(tp, value, tb)\u001b[0m\n\u001b[0;32m     78\u001b[0m         \u001b[0mvalue\u001b[0m \u001b[1;33m=\u001b[0m \u001b[0mtp\u001b[0m\u001b[1;33m(\u001b[0m\u001b[1;33m)\u001b[0m\u001b[1;33m\u001b[0m\u001b[1;33m\u001b[0m\u001b[0m\n\u001b[0;32m     79\u001b[0m     \u001b[1;32mif\u001b[0m \u001b[0mvalue\u001b[0m\u001b[1;33m.\u001b[0m\u001b[0m__traceback__\u001b[0m \u001b[1;32mis\u001b[0m \u001b[1;32mnot\u001b[0m \u001b[0mtb\u001b[0m\u001b[1;33m:\u001b[0m\u001b[1;33m\u001b[0m\u001b[1;33m\u001b[0m\u001b[0m\n\u001b[1;32m---> 80\u001b[1;33m         \u001b[1;32mraise\u001b[0m \u001b[0mvalue\u001b[0m\u001b[1;33m.\u001b[0m\u001b[0mwith_traceback\u001b[0m\u001b[1;33m(\u001b[0m\u001b[0mtb\u001b[0m\u001b[1;33m)\u001b[0m\u001b[1;33m\u001b[0m\u001b[1;33m\u001b[0m\u001b[0m\n\u001b[0m\u001b[0;32m     81\u001b[0m     \u001b[1;32mraise\u001b[0m \u001b[0mvalue\u001b[0m\u001b[1;33m\u001b[0m\u001b[1;33m\u001b[0m\u001b[0m\n\u001b[0;32m     82\u001b[0m \u001b[1;33m\u001b[0m\u001b[0m\n",
      "\u001b[1;31mTypingError\u001b[0m: Failed in nopython mode pipeline (step: nopython frontend)\n\u001b[1m\u001b[1mnon-precise type pyobject\u001b[0m\n\u001b[0m\u001b[1mDuring: typing of argument at <ipython-input-79-609933cbd498> (18)\u001b[0m\n\u001b[1m\nFile \"<ipython-input-79-609933cbd498>\", line 18:\u001b[0m\n\u001b[1m    def forward(self, target, pred_val):\n        <source elided>\n        \"\"\"\n\u001b[1m        self.target = target\n\u001b[0m        \u001b[1m^\u001b[0m\u001b[0m\n\nThis error may have been caused by the following argument(s):\n- argument 0: \u001b[1mcannot determine Numba type of <class 'type'>\u001b[0m\n"
     ]
    }
   ],
   "source": [
    "%time mse_parallel.forward(target=testdata, pred_val=testdata)"
   ]
  },
  {
   "cell_type": "code",
   "execution_count": null,
   "metadata": {},
   "outputs": [],
   "source": []
  }
 ],
 "metadata": {
  "kernelspec": {
   "display_name": "Python 3",
   "language": "python",
   "name": "python3"
  },
  "language_info": {
   "codemirror_mode": {
    "name": "ipython",
    "version": 3
   },
   "file_extension": ".py",
   "mimetype": "text/x-python",
   "name": "python",
   "nbconvert_exporter": "python",
   "pygments_lexer": "ipython3",
   "version": "3.8.5"
  }
 },
 "nbformat": 4,
 "nbformat_minor": 4
}
